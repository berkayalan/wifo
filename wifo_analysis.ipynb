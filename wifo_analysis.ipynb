{
 "cells": [
  {
   "cell_type": "code",
   "execution_count": 62,
   "metadata": {},
   "outputs": [],
   "source": [
    "import pandas as pd\n",
    "import numpy as np\n",
    "import seaborn as sns\n",
    "import matplotlib.pyplot as plt\n",
    "alle = pd.read_excel('/Users/berkay/Desktop/Data Science/WIFO/alltogether.xlsx')"
   ]
  },
  {
   "cell_type": "code",
   "execution_count": 63,
   "metadata": {},
   "outputs": [
    {
     "data": {
      "text/html": [
       "<div>\n",
       "<style scoped>\n",
       "    .dataframe tbody tr th:only-of-type {\n",
       "        vertical-align: middle;\n",
       "    }\n",
       "\n",
       "    .dataframe tbody tr th {\n",
       "        vertical-align: top;\n",
       "    }\n",
       "\n",
       "    .dataframe thead th {\n",
       "        text-align: right;\n",
       "    }\n",
       "</style>\n",
       "<table border=\"1\" class=\"dataframe\">\n",
       "  <thead>\n",
       "    <tr style=\"text-align: right;\">\n",
       "      <th></th>\n",
       "      <th>Age</th>\n",
       "      <th>Sex</th>\n",
       "      <th>City</th>\n",
       "      <th>Marial Status</th>\n",
       "      <th>Education</th>\n",
       "      <th>Working</th>\n",
       "      <th>Sector</th>\n",
       "      <th>Working Type</th>\n",
       "      <th>Experience</th>\n",
       "      <th>Income</th>\n",
       "      <th>...</th>\n",
       "      <th>YOUTUBE</th>\n",
       "      <th>Youtube review videoları</th>\n",
       "      <th>Youtube ürün incelemeleri.</th>\n",
       "      <th>Youtube’da review eden yabancı youtuberlar</th>\n",
       "      <th>Ürün katalogları</th>\n",
       "      <th>Ürün üzerindeki bilgi etiketleri</th>\n",
       "      <th>Ürün/hizmet hakkında bilgi veren internet siteleri</th>\n",
       "      <th>İhtiyac</th>\n",
       "      <th>İlan Panoları, el ilanları, afişler v.b.</th>\n",
       "      <th>İnstagram sayfaları ve youtube</th>\n",
       "    </tr>\n",
       "  </thead>\n",
       "  <tbody>\n",
       "    <tr>\n",
       "      <th>0</th>\n",
       "      <td>2</td>\n",
       "      <td>1</td>\n",
       "      <td>47</td>\n",
       "      <td>2</td>\n",
       "      <td>4</td>\n",
       "      <td>0</td>\n",
       "      <td>0</td>\n",
       "      <td>0</td>\n",
       "      <td>0</td>\n",
       "      <td>2</td>\n",
       "      <td>...</td>\n",
       "      <td>0</td>\n",
       "      <td>0</td>\n",
       "      <td>0</td>\n",
       "      <td>0</td>\n",
       "      <td>0</td>\n",
       "      <td>0</td>\n",
       "      <td>0</td>\n",
       "      <td>0</td>\n",
       "      <td>0</td>\n",
       "      <td>0</td>\n",
       "    </tr>\n",
       "    <tr>\n",
       "      <th>1</th>\n",
       "      <td>2</td>\n",
       "      <td>0</td>\n",
       "      <td>46</td>\n",
       "      <td>2</td>\n",
       "      <td>3</td>\n",
       "      <td>1</td>\n",
       "      <td>101</td>\n",
       "      <td>101</td>\n",
       "      <td>0</td>\n",
       "      <td>1</td>\n",
       "      <td>...</td>\n",
       "      <td>0</td>\n",
       "      <td>0</td>\n",
       "      <td>0</td>\n",
       "      <td>0</td>\n",
       "      <td>0</td>\n",
       "      <td>0</td>\n",
       "      <td>0</td>\n",
       "      <td>0</td>\n",
       "      <td>0</td>\n",
       "      <td>0</td>\n",
       "    </tr>\n",
       "    <tr>\n",
       "      <th>2</th>\n",
       "      <td>2</td>\n",
       "      <td>1</td>\n",
       "      <td>46</td>\n",
       "      <td>2</td>\n",
       "      <td>4</td>\n",
       "      <td>1</td>\n",
       "      <td>102</td>\n",
       "      <td>102</td>\n",
       "      <td>4</td>\n",
       "      <td>3</td>\n",
       "      <td>...</td>\n",
       "      <td>0</td>\n",
       "      <td>0</td>\n",
       "      <td>0</td>\n",
       "      <td>0</td>\n",
       "      <td>0</td>\n",
       "      <td>0</td>\n",
       "      <td>0</td>\n",
       "      <td>0</td>\n",
       "      <td>0</td>\n",
       "      <td>0</td>\n",
       "    </tr>\n",
       "    <tr>\n",
       "      <th>3</th>\n",
       "      <td>2</td>\n",
       "      <td>1</td>\n",
       "      <td>46</td>\n",
       "      <td>2</td>\n",
       "      <td>4</td>\n",
       "      <td>0</td>\n",
       "      <td>0</td>\n",
       "      <td>0</td>\n",
       "      <td>0</td>\n",
       "      <td>3</td>\n",
       "      <td>...</td>\n",
       "      <td>0</td>\n",
       "      <td>0</td>\n",
       "      <td>0</td>\n",
       "      <td>0</td>\n",
       "      <td>0</td>\n",
       "      <td>1</td>\n",
       "      <td>0</td>\n",
       "      <td>0</td>\n",
       "      <td>0</td>\n",
       "      <td>0</td>\n",
       "    </tr>\n",
       "    <tr>\n",
       "      <th>4</th>\n",
       "      <td>2</td>\n",
       "      <td>1</td>\n",
       "      <td>46</td>\n",
       "      <td>2</td>\n",
       "      <td>4</td>\n",
       "      <td>0</td>\n",
       "      <td>0</td>\n",
       "      <td>0</td>\n",
       "      <td>0</td>\n",
       "      <td>1</td>\n",
       "      <td>...</td>\n",
       "      <td>0</td>\n",
       "      <td>0</td>\n",
       "      <td>0</td>\n",
       "      <td>0</td>\n",
       "      <td>1</td>\n",
       "      <td>1</td>\n",
       "      <td>1</td>\n",
       "      <td>0</td>\n",
       "      <td>0</td>\n",
       "      <td>0</td>\n",
       "    </tr>\n",
       "  </tbody>\n",
       "</table>\n",
       "<p>5 rows × 174 columns</p>\n",
       "</div>"
      ],
      "text/plain": [
       "   Age  Sex  City Marial Status Education  Working  Sector Working Type  \\\n",
       "0    2    1    47             2         4        0       0            0   \n",
       "1    2    0    46             2         3        1     101          101   \n",
       "2    2    1    46             2         4        1     102          102   \n",
       "3    2    1    46             2         4        0       0            0   \n",
       "4    2    1    46             2         4        0       0            0   \n",
       "\n",
       "   Experience  Income  ...  YOUTUBE  Youtube review videoları  \\\n",
       "0           0       2  ...        0                         0   \n",
       "1           0       1  ...        0                         0   \n",
       "2           4       3  ...        0                         0   \n",
       "3           0       3  ...        0                         0   \n",
       "4           0       1  ...        0                         0   \n",
       "\n",
       "   Youtube ürün incelemeleri.  Youtube’da review eden yabancı youtuberlar  \\\n",
       "0                           0                                           0   \n",
       "1                           0                                           0   \n",
       "2                           0                                           0   \n",
       "3                           0                                           0   \n",
       "4                           0                                           0   \n",
       "\n",
       "   Ürün katalogları  Ürün üzerindeki bilgi etiketleri  \\\n",
       "0                 0                                 0   \n",
       "1                 0                                 0   \n",
       "2                 0                                 0   \n",
       "3                 0                                 1   \n",
       "4                 1                                 1   \n",
       "\n",
       "   Ürün/hizmet hakkında bilgi veren internet siteleri  İhtiyac  \\\n",
       "0                                                  0         0   \n",
       "1                                                  0         0   \n",
       "2                                                  0         0   \n",
       "3                                                  0         0   \n",
       "4                                                  1         0   \n",
       "\n",
       "   İlan Panoları, el ilanları, afişler v.b.  İnstagram sayfaları ve youtube  \n",
       "0                                         0                               0  \n",
       "1                                         0                               0  \n",
       "2                                         0                               0  \n",
       "3                                         0                               0  \n",
       "4                                         0                               0  \n",
       "\n",
       "[5 rows x 174 columns]"
      ]
     },
     "execution_count": 63,
     "metadata": {},
     "output_type": "execute_result"
    }
   ],
   "source": [
    "alle.head()"
   ]
  },
  {
   "cell_type": "code",
   "execution_count": 64,
   "metadata": {},
   "outputs": [
    {
     "data": {
      "text/plain": [
       "Index(['Age', 'Sex', 'City', 'Marial Status', 'Education', 'Working', 'Sector',\n",
       "       'Working Type', 'Experience', 'Income',\n",
       "       ...\n",
       "       'YOUTUBE', 'Youtube review videoları', 'Youtube ürün incelemeleri.',\n",
       "       'Youtube’da review eden yabancı youtuberlar', 'Ürün katalogları',\n",
       "       'Ürün üzerindeki bilgi etiketleri',\n",
       "       'Ürün/hizmet hakkında bilgi veren internet siteleri', 'İhtiyac',\n",
       "       'İlan Panoları, el ilanları, afişler v.b.',\n",
       "       'İnstagram sayfaları ve youtube'],\n",
       "      dtype='object', length=174)"
      ]
     },
     "execution_count": 64,
     "metadata": {},
     "output_type": "execute_result"
    }
   ],
   "source": [
    "alle.columns"
   ]
  },
  {
   "cell_type": "markdown",
   "metadata": {
    "heading_collapsed": true
   },
   "source": [
    "## T-Test"
   ]
  },
  {
   "cell_type": "code",
   "execution_count": 60,
   "metadata": {
    "hidden": true
   },
   "outputs": [],
   "source": [
    "# t-test for independent samples\n",
    "from math import sqrt\n",
    "from numpy.random import seed\n",
    "from numpy.random import randn\n",
    "from numpy import mean\n",
    "from scipy.stats import sem\n",
    "from scipy.stats import t\n",
    " \n",
    "# function for calculating the t-test for two independent samples\n",
    "def independent_ttest(data1, data2, alpha):# calculate means\n",
    "    mean1, mean2 = mean(data1), mean(data2)\n",
    "    # calculate standard errors\n",
    "    se1, se2 = sem(data1), sem(data2)\n",
    "    # standard error on the difference between the samples\n",
    "    sed = sqrt(se1**2.0 + se2**2.0)\n",
    "    # calculate the t statistic\n",
    "    t_stat = (mean1 - mean2) / sed\n",
    "    # degrees of freedom\n",
    "    degf = len(data1) + len(data2) - 2\n",
    "    # calculate the critical value\n",
    "    cv = t.ppf(1.0 - alpha, degf)\n",
    "    # calculate the p-value\n",
    "    p = (1.0 - t.cdf(abs(t_stat), degf)) * 2.0\n",
    "    # return everything\n",
    "    return t_stat, degf, cv, p"
   ]
  },
  {
   "cell_type": "code",
   "execution_count": 61,
   "metadata": {
    "hidden": true
   },
   "outputs": [],
   "source": [
    "def interpreting(t_stat,cv,p,alpha=0.05):\n",
    "    # interpret via critical value\n",
    "    if abs(t_stat) <= cv:\n",
    "        print('Accept null hypothesis that the means are equal.')\n",
    "    else:\n",
    "        print('Reject the null hypothesis that the means are equal.')\n",
    "    # interpret via p-value\n",
    "    if p > alpha:\n",
    "        print('Accept null hypothesis that the means are equal.')\n",
    "    else:\n",
    "        print('Reject the null hypothesis that the means are equal.')"
   ]
  },
  {
   "cell_type": "code",
   "execution_count": 62,
   "metadata": {
    "hidden": true
   },
   "outputs": [
    {
     "name": "stdout",
     "output_type": "stream",
     "text": [
      "t=69.140, df=1472, cv=-inf, p=0.000\n",
      "Reject the null hypothesis that the means are equal.\n",
      "Reject the null hypothesis that the means are equal.\n"
     ]
    }
   ],
   "source": [
    "a = alle.City[alle.Sex==1]\n",
    "b = alle.Trendyol[alle.Sex==1]\n",
    "t_stat, degf, cv, p = independent_ttest(a,b, alpha==0.05)\n",
    "print('t=%.3f, df=%d, cv=%.3f, p=%.3f' % (t_stat, degf, cv, p))\n",
    "interpreting(t_stat,cv,p,alpha)"
   ]
  },
  {
   "cell_type": "code",
   "execution_count": 75,
   "metadata": {
    "hidden": true
   },
   "outputs": [
    {
     "name": "stdout",
     "output_type": "stream",
     "text": [
      "t=-43.592, df=876, cv=-inf, p=0.000\n",
      "Reject the null hypothesis that the means are equal.\n",
      "Reject the null hypothesis that the means are equal.\n"
     ]
    }
   ],
   "source": [
    "bir= alle['aliexpress'][alle.Sex==2]\n",
    "iki = alle.Sex[alle.Sex==2]\n",
    "t_stat, df, cv, p = independent_ttest(bir,iki,alpha==0.05)\n",
    "print('t=%.3f, df=%d, cv=%.3f, p=%.3f' % (t_stat, df, cv, p))\n",
    "interpreting(t_stat,cv,p,alpha)"
   ]
  },
  {
   "cell_type": "code",
   "execution_count": 72,
   "metadata": {
    "collapsed": true,
    "hidden": true
   },
   "outputs": [
    {
     "name": "stdout",
     "output_type": "stream",
     "text": [
      "Age\n",
      "Sex\n",
      "City\n",
      "Marial Status\n",
      "Education\n",
      "Working\n",
      "Sector\n",
      "Working Type\n",
      "Experience\n",
      "Income\n",
      "Abroad Ex\n",
      "Abroad year\n",
      "12. Ne sıklıkla çevrimici alışveriş yapıyorsunuz?\n",
      "Research before purchase\n",
      "Akıllı Cep Telefonu\n",
      "Dizüstü Bilgisayar\n",
      "Masaüstü Bilgisayar\n",
      "Tablet\n",
      "Aldığım bazı ürünlerin sadece online olarak satılması\n",
      "Alisveris merkezine gitmemek icin\n",
      "Alış veriş yapmasını sevmiyorum. Zorunluluk olmadıkça yapmamaya çalışıyorum\n",
      "Alış verişe gitmekten hoşlanmıyorum\n",
      "Alışveriş için yol ve zaman tasarrufu\n",
      "Alışveriş merkezi kalabalığına girmemek ve elimde eşya taşımamak\n",
      "Alışverişe çıkmaktan nefret etme\n",
      "Aradığım ürünün olduğum şehirde bulunmaması\n",
      "Bir yere gitmek zorunda olmadan alışveriş yapmak\n",
      "Bulunduğum yerden hareket etmek zorunda olmama\n",
      "Daha fazla ödeme seçeceği\n",
      "Daha fazla ürün seçeneği\n",
      "Daha güvenilir olması \n",
      "Daha hızlı alışveriş yapmak\n",
      "Daha kolay olması\n",
      "Daha kolay olması, oturduğun yerden yapabilmek\n",
      "Daha sağlam gelmesi\n",
      "Denemekle ugrasmamak icin..\n",
      "Denenmemis urun alabilmek\n",
      "Direkt depodan temiz gelmesi.\n",
      "Fiyat karşılaştırması yapabilme\n",
      "Fiziksel olarak alışveriş yapacak zaman olmaması\n",
      "Gezerek/ürünü arayarak yorulmama\n",
      "Gezmek zorunda kalmamak büyük bir avantaj \n",
      "Gidip gezme yorgunluğu ve zaman kaybını yaşamamak\n",
      "Kapıya kadar hizmet\n",
      "Kargonun eve gelmesi.\n",
      "Kolay, bir yere gitmeye gerek yok. Tek tıkla al ve daha ucuz. \n",
      "Kullanmıyorum\n",
      "Mağazaların uzak olup gidip mağazadan almaya her zaman vakit bulamamam.\n",
      "Mağazaya gidip görmek yerine hepsini bi monitörden görebikiyorum.Kısacası üşengeç oluşum.\n",
      "Mağazaya gidip zaman harcamamak için \n",
      "Offline alışveriş yapmaya zaman bulamamak.\n",
      "Pratik\n",
      "Promosyonlar ve İndirimler\n",
      "Rahat ürün secebilme \n",
      "Zaman kazanıyorum, evde ve boş vakitlerimde tercih ederim edebiliyorum\n",
      "avm veya mağaza gezmeyi sevmiyorum \n",
      "bazı internet siteleri  beğenmediğinde iade seçeneği sunuyor\n",
      "dışarıdan almaya üşeniyorum xD\n",
      "eBay CEO'su Oget Kantarcı eski dostumdur. Para yabancıya gitmesin diye internetten alışveriş yapıyorum. :)\n",
      "iade süreçlerinin daha iyi olması ve direk ayağıma gelmesi\n",
      "zaman kazanmak zaman çok değerli\n",
      "Çok fazla alışverişe zaman ayıramadığım için\n",
      "Ürünü almadan önce değerlendirmeleri okuyabilme\n",
      "Üşengeçlik, ürünün tükenmesi korkusu, ürüne hemen sahip olma isteği\n",
      "Anne / Bebek / Oyuncak\n",
      "Bira kiti\n",
      "Cinsel sağlık ürünleri\n",
      "Dijital Müzik / Dijital Film / Dijital Oyun\n",
      "E-sigara mamülleri\n",
      "Ev Eşyaları\n",
      "Evcil Hayvan Ürünleri\n",
      "Finansal Hizmetler / Sigorta Alımı\n",
      "Giyim \n",
      "Giyim / Ayakkabı\n",
      "Giyim ve elektronik\n",
      "Hızlı Tüketim Ürünleri(Gıda,İçecek vb.)\n",
      "Kitap\n",
      "Kişisel Bakım & Kozmetik\n",
      "Kırtasiye ürünleri (defter, kalem gibi)\n",
      "Kıyafet\n",
      "Motosiklet aksesuarı\n",
      "Mücevher/Aksesuar\n",
      "Müzik / Film / Hobi / Oyun\n",
      "Otomobil Aksesuarları\n",
      "Seyahat(Ulaşım / Konaklama)\n",
      "Sportif ve Kültürel Faaliyet Biletleri\n",
      "Teknoloji / Elektronik\n",
      "Yemek Siparişi\n",
      "hobi\n",
      "Çevrimici Eğitim\n",
      "Çiçek / Çikolata\n",
      "HepsiBurada\n",
      "Trendyol\n",
      "Gittigidiyor\n",
      "sahibinden\n",
      "n11\n",
      "Yemeksepeti\n",
      "aliexpress\n",
      "migros sanal market\n",
      "ebebek\n",
      "amazon\n",
      "teknosa\n",
      "kitapyurdu\n",
      "morhipo\n",
      "çiçeksepeti\n",
      "d&r\n",
      "watsons\n",
      "lcwaikiki\n",
      "boyner\n",
      "carrefoursa\n",
      "epttavm\n",
      "Getir\n",
      "Banabi\n",
      "Bakkaldan\n",
      "Kapgel\n",
      "Diğer\n",
      "allow Site to save card infos\n",
      "Following campaign days\n",
      "Free shipment effect decision\n",
      "Alışverişlerinizden önce fiyat karşılaştırması yapar mısınız?\n",
      "Size özel teklifler sunulması alışveriş kararınızı etkiler mi?\n",
      "Alışverişleriniz sonrası geri bildirim verir misiniz?\n",
      "BKM\n",
      "Banka Kartı\n",
      "EFT / Havale\n",
      "Garantipay\n",
      "Kapıda Ödeme\n",
      "Kredi Kartı\n",
      "Multinet\n",
      "Nakit\n",
      "Online ödeme\n",
      "SWIFT\n",
      "Sanal Kart\n",
      "Sanal kart\n",
      "Sanal kart \n",
      "Ticket\n",
      "Ticket Kart\n",
      "Yemek kartı (Sodexo vs.)\n",
      "sanal kart\n",
      "Aras Kargo\n",
      "MNG Kargo\n",
      "Sürat Kargo\n",
      "Yurtiçi Kargo\n",
      "PTT Kargo\n",
      "UPS\n",
      "Turkey based or no would affect\n",
      "Physical place affect\n",
      "Aile üyeleri tavsiyesi\n",
      "Arkadaşların tavsiyeleri\n",
      "Blogger\n",
      "Daha önce alanların değerlendirmeleri\n",
      "Forum sitelerindeki yorumlar.\n",
      "Geçmiş Tecrübelerim\n",
      "Ilgimi çektikten sonra açar okurum\n",
      "Influencerlar\n",
      "Kitap tavsiyesi için 1000kitap sitesi ve youtubedaki kitap yorumcularını takip ediyorum\n",
      "Kullanlarin yorumları\n",
      "Kullanıcı yorumları forum ve videolar\n",
      "PETA’nın düzenli olarak güncellenen marka listesine göre alışveriş yapmaya çalışıyorum.\n",
      "Reklamlar\n",
      "Satış elemanları\n",
      "Site yorumları\n",
      "Sözlük ve bazı blog yorumları\n",
      "Televizyon programları ve uzman tavsiyeleri\n",
      "YOUTUBE\n",
      "Youtube review videoları\n",
      "Youtube ürün incelemeleri.\n",
      "Youtube’da review eden yabancı youtuberlar\n",
      "Ürün katalogları\n",
      "Ürün üzerindeki bilgi etiketleri\n",
      "Ürün/hizmet hakkında bilgi veren internet siteleri\n",
      "İhtiyac\n",
      "İlan Panoları, el ilanları, afişler v.b.\n",
      "İnstagram sayfaları ve youtube\n"
     ]
    }
   ],
   "source": [
    "for i in alle.columns:\n",
    "    print(i)"
   ]
  },
  {
   "cell_type": "code",
   "execution_count": 80,
   "metadata": {
    "hidden": true
   },
   "outputs": [
    {
     "data": {
      "text/plain": [
       "Ttest_indResult(statistic=-14.928780111725402, pvalue=3.2336546718068886e-48)"
      ]
     },
     "execution_count": 80,
     "metadata": {},
     "output_type": "execute_result"
    }
   ],
   "source": [
    "from scipy import stats\n",
    "bir= alle['Income']\n",
    "iki = alle[\"12. Ne sıklıkla çevrimici alışveriş yapıyorsunuz?\"]\n",
    "stats.ttest_ind(bir,iki)"
   ]
  },
  {
   "cell_type": "code",
   "execution_count": 81,
   "metadata": {
    "hidden": true
   },
   "outputs": [
    {
     "data": {
      "text/plain": [
       "Ttest_indResult(statistic=-58.082757440790886, pvalue=0.0)"
      ]
     },
     "execution_count": 81,
     "metadata": {},
     "output_type": "execute_result"
    }
   ],
   "source": [
    "from scipy import stats\n",
    "bir= alle['Sex']\n",
    "iki = alle[\"12. Ne sıklıkla çevrimici alışveriş yapıyorsunuz?\"]\n",
    "stats.ttest_ind(bir,iki)"
   ]
  },
  {
   "cell_type": "markdown",
   "metadata": {
    "heading_collapsed": true
   },
   "source": [
    "# Working Examples"
   ]
  },
  {
   "cell_type": "markdown",
   "metadata": {
    "heading_collapsed": true,
    "hidden": true
   },
   "source": [
    "## Independent Sample T-Test between Sex and Working"
   ]
  },
  {
   "cell_type": "code",
   "execution_count": 5,
   "metadata": {
    "hidden": true
   },
   "outputs": [
    {
     "data": {
      "text/plain": [
       "Ttest_indResult(statistic=-67.48909825784962, pvalue=0.0)"
      ]
     },
     "execution_count": 5,
     "metadata": {},
     "output_type": "execute_result"
    }
   ],
   "source": [
    "from scipy import stats\n",
    "\n",
    "bir= alle['Sex']\n",
    "iki = alle[\"Income\"]\n",
    "stats.ttest_ind(bir,iki)"
   ]
  },
  {
   "cell_type": "code",
   "execution_count": 6,
   "metadata": {
    "hidden": true
   },
   "outputs": [
    {
     "data": {
      "text/plain": [
       "Text(0.5, 1.0, 'Independent Sample T-Test between Sex and Income')"
      ]
     },
     "execution_count": 6,
     "metadata": {},
     "output_type": "execute_result"
    },
    {
     "data": {
      "image/png": "[encoded data removed]",
      "text/plain": [
       "<Figure size 432x288 with 1 Axes>"
      ]
     },
     "metadata": {
      "needs_background": "light"
     },
     "output_type": "display_data"
    }
   ],
   "source": [
    "import seaborn as sns\n",
    "import matplotlib.pyplot as plt\n",
    "sns.kdeplot(bir, shade=True)\n",
    "sns.kdeplot(iki, shade=True)\n",
    "plt.title(\"Independent Sample T-Test between Sex and Income\")"
   ]
  },
  {
   "cell_type": "markdown",
   "metadata": {
    "heading_collapsed": true,
    "hidden": true
   },
   "source": [
    "## Independent Sample T-Test between Sex and Bank Card"
   ]
  },
  {
   "cell_type": "code",
   "execution_count": 101,
   "metadata": {
    "hidden": true
   },
   "outputs": [
    {
     "data": {
      "text/plain": [
       "Ttest_indResult(statistic=-0.7274302298441252, pvalue=0.46703490421462124)"
      ]
     },
     "execution_count": 101,
     "metadata": {},
     "output_type": "execute_result"
    }
   ],
   "source": [
    "from scipy import stats\n",
    "bir= alle['Sex']\n",
    "iki = alle[\"Banka Kartı\"]\n",
    "stats.ttest_ind(bir,iki)"
   ]
  },
  {
   "cell_type": "code",
   "execution_count": 103,
   "metadata": {
    "hidden": true
   },
   "outputs": [
    {
     "data": {
      "text/plain": [
       "Text(0.5, 1.0, 'Independent Sample T-Test between Sex and Bank Card')"
      ]
     },
     "execution_count": 103,
     "metadata": {},
     "output_type": "execute_result"
    },
    {
     "data": {
      "image/png": "[encoded data removed]",
      "text/plain": [
       "<Figure size 432x288 with 1 Axes>"
      ]
     },
     "metadata": {
      "needs_background": "light"
     },
     "output_type": "display_data"
    }
   ],
   "source": [
    "import seaborn as sns\n",
    "import matplotlib.pyplot as plt\n",
    "sns.kdeplot(bir, shade=True)\n",
    "sns.kdeplot(iki, shade=True)\n",
    "plt.title(\"Independent Sample T-Test between Sex and Bank Card\")"
   ]
  },
  {
   "cell_type": "markdown",
   "metadata": {
    "heading_collapsed": true,
    "hidden": true
   },
   "source": [
    "## Independent Sample T-Test between Sex and Online Shopping Frequency"
   ]
  },
  {
   "cell_type": "code",
   "execution_count": 108,
   "metadata": {
    "hidden": true
   },
   "outputs": [],
   "source": [
    "sex_and_frequency=alle[[\"Sex\",\"12. Ne sıklıkla çevrimici alışveriş yapıyorsunuz?\"]]"
   ]
  },
  {
   "cell_type": "code",
   "execution_count": 111,
   "metadata": {
    "hidden": true
   },
   "outputs": [
    {
     "name": "stderr",
     "output_type": "stream",
     "text": [
      "/Users/berkay/anaconda3/lib/python3.7/site-packages/IPython/core/interactiveshell.py:3331: SettingWithCopyWarning: \n",
      "A value is trying to be set on a copy of a slice from a DataFrame\n",
      "\n",
      "See the caveats in the documentation: https://pandas.pydata.org/pandas-docs/stable/user_guide/indexing.html#returning-a-view-versus-a-copy\n",
      "  exec(code_obj, self.user_global_ns, self.user_ns)\n"
     ]
    }
   ],
   "source": [
    "for i in range(0,len(sex_and_frequency)):\n",
    "    if sex_and_frequency[\"12. Ne sıklıkla çevrimici alışveriş yapıyorsunuz?\"][i]==1:\n",
    "        sex_and_frequency[\"12. Ne sıklıkla çevrimici alışveriş yapıyorsunuz?\"][i]=0\n",
    "    if sex_and_frequency[\"12. Ne sıklıkla çevrimici alışveriş yapıyorsunuz?\"][i]==2:\n",
    "        sex_and_frequency[\"12. Ne sıklıkla çevrimici alışveriş yapıyorsunuz?\"][i]=0\n",
    "    if sex_and_frequency[\"12. Ne sıklıkla çevrimici alışveriş yapıyorsunuz?\"][i]==3:\n",
    "        sex_and_frequency[\"12. Ne sıklıkla çevrimici alışveriş yapıyorsunuz?\"][i]=0\n",
    "    if sex_and_frequency[\"12. Ne sıklıkla çevrimici alışveriş yapıyorsunuz?\"][i]==4:\n",
    "        sex_and_frequency[\"12. Ne sıklıkla çevrimici alışveriş yapıyorsunuz?\"][i]=1\n",
    "    if sex_and_frequency[\"12. Ne sıklıkla çevrimici alışveriş yapıyorsunuz?\"][i]==5:\n",
    "        sex_and_frequency[\"12. Ne sıklıkla çevrimici alışveriş yapıyorsunuz?\"][i]=1\n",
    "    if sex_and_frequency[\"12. Ne sıklıkla çevrimici alışveriş yapıyorsunuz?\"][i]==6:\n",
    "        sex_and_frequency[\"12. Ne sıklıkla çevrimici alışveriş yapıyorsunuz?\"][i]=1"
   ]
  },
  {
   "cell_type": "code",
   "execution_count": 122,
   "metadata": {
    "hidden": true
   },
   "outputs": [
    {
     "name": "stderr",
     "output_type": "stream",
     "text": [
      "/Users/berkay/anaconda3/lib/python3.7/site-packages/pandas/core/frame.py:4133: SettingWithCopyWarning: \n",
      "A value is trying to be set on a copy of a slice from a DataFrame\n",
      "\n",
      "See the caveats in the documentation: https://pandas.pydata.org/pandas-docs/stable/user_guide/indexing.html#returning-a-view-versus-a-copy\n",
      "  errors=errors,\n"
     ]
    }
   ],
   "source": [
    "sex_and_frequency.rename(columns={\"12. Ne sıklıkla çevrimici alışveriş yapıyorsunuz?\":\"Online Shopping Frequency\"},inplace=True)"
   ]
  },
  {
   "cell_type": "code",
   "execution_count": 130,
   "metadata": {
    "hidden": true
   },
   "outputs": [
    {
     "data": {
      "text/plain": [
       "Ttest_indResult(statistic=6.201186292860187, pvalue=6.600285000459895e-10)"
      ]
     },
     "execution_count": 130,
     "metadata": {},
     "output_type": "execute_result"
    }
   ],
   "source": [
    "from scipy import stats\n",
    "sex= sex_and_frequency['Sex']\n",
    "freq = sex_and_frequency[\"Online Shopping Frequency\"]\n",
    "stats.ttest_ind(sex,freq)"
   ]
  },
  {
   "cell_type": "code",
   "execution_count": 131,
   "metadata": {
    "hidden": true
   },
   "outputs": [
    {
     "data": {
      "text/plain": [
       "Text(0.5, 1.0, 'Independent Sample T-Test between Sex and  Online Shopping Frequency')"
      ]
     },
     "execution_count": 131,
     "metadata": {},
     "output_type": "execute_result"
    },
    {
     "data": {
      "image/png": "[encoded data removed]",
      "text/plain": [
       "<Figure size 432x288 with 1 Axes>"
      ]
     },
     "metadata": {
      "needs_background": "light"
     },
     "output_type": "display_data"
    }
   ],
   "source": [
    "import seaborn as sns\n",
    "import matplotlib.pyplot as plt\n",
    "sns.kdeplot(sex, shade=True)\n",
    "sns.kdeplot(freq, shade=True)\n",
    "plt.title(\"Independent Sample T-Test between Sex and  Online Shopping Frequency\")"
   ]
  },
  {
   "cell_type": "markdown",
   "metadata": {
    "hidden": true
   },
   "source": [
    "## Independent Sample T-Test between Working and Online Shopping Frequency"
   ]
  },
  {
   "cell_type": "code",
   "execution_count": 20,
   "metadata": {
    "hidden": true
   },
   "outputs": [
    {
     "data": {
      "text/plain": [
       "Index(['Age', 'Sex', 'City', 'Marial Status', 'Education', 'Working', 'Sector',\n",
       "       'Working Type', 'Experience', 'Income',\n",
       "       ...\n",
       "       'YOUTUBE', 'Youtube review videoları', 'Youtube ürün incelemeleri.',\n",
       "       'Youtube’da review eden yabancı youtuberlar', 'Ürün katalogları',\n",
       "       'Ürün üzerindeki bilgi etiketleri',\n",
       "       'Ürün/hizmet hakkında bilgi veren internet siteleri', 'İhtiyac',\n",
       "       'İlan Panoları, el ilanları, afişler v.b.',\n",
       "       'İnstagram sayfaları ve youtube'],\n",
       "      dtype='object', length=174)"
      ]
     },
     "execution_count": 20,
     "metadata": {},
     "output_type": "execute_result"
    }
   ],
   "source": [
    "alle.columns"
   ]
  },
  {
   "cell_type": "code",
   "execution_count": 21,
   "metadata": {
    "hidden": true
   },
   "outputs": [],
   "source": [
    "working_and_frequency=alle[[\"Working\",\"Online Shopping Frequency\"]]"
   ]
  },
  {
   "cell_type": "code",
   "execution_count": 22,
   "metadata": {
    "hidden": true
   },
   "outputs": [
    {
     "data": {
      "text/html": [
       "<div>\n",
       "<style scoped>\n",
       "    .dataframe tbody tr th:only-of-type {\n",
       "        vertical-align: middle;\n",
       "    }\n",
       "\n",
       "    .dataframe tbody tr th {\n",
       "        vertical-align: top;\n",
       "    }\n",
       "\n",
       "    .dataframe thead th {\n",
       "        text-align: right;\n",
       "    }\n",
       "</style>\n",
       "<table border=\"1\" class=\"dataframe\">\n",
       "  <thead>\n",
       "    <tr style=\"text-align: right;\">\n",
       "      <th></th>\n",
       "      <th>Working</th>\n",
       "      <th>Online Shopping Frequency</th>\n",
       "    </tr>\n",
       "  </thead>\n",
       "  <tbody>\n",
       "    <tr>\n",
       "      <th>0</th>\n",
       "      <td>0</td>\n",
       "      <td>2</td>\n",
       "    </tr>\n",
       "    <tr>\n",
       "      <th>1</th>\n",
       "      <td>1</td>\n",
       "      <td>2</td>\n",
       "    </tr>\n",
       "    <tr>\n",
       "      <th>2</th>\n",
       "      <td>1</td>\n",
       "      <td>4</td>\n",
       "    </tr>\n",
       "    <tr>\n",
       "      <th>3</th>\n",
       "      <td>0</td>\n",
       "      <td>4</td>\n",
       "    </tr>\n",
       "    <tr>\n",
       "      <th>4</th>\n",
       "      <td>0</td>\n",
       "      <td>2</td>\n",
       "    </tr>\n",
       "    <tr>\n",
       "      <th>...</th>\n",
       "      <td>...</td>\n",
       "      <td>...</td>\n",
       "    </tr>\n",
       "    <tr>\n",
       "      <th>1171</th>\n",
       "      <td>1</td>\n",
       "      <td>4</td>\n",
       "    </tr>\n",
       "    <tr>\n",
       "      <th>1172</th>\n",
       "      <td>1</td>\n",
       "      <td>2</td>\n",
       "    </tr>\n",
       "    <tr>\n",
       "      <th>1173</th>\n",
       "      <td>0</td>\n",
       "      <td>2</td>\n",
       "    </tr>\n",
       "    <tr>\n",
       "      <th>1174</th>\n",
       "      <td>0</td>\n",
       "      <td>3</td>\n",
       "    </tr>\n",
       "    <tr>\n",
       "      <th>1175</th>\n",
       "      <td>0</td>\n",
       "      <td>3</td>\n",
       "    </tr>\n",
       "  </tbody>\n",
       "</table>\n",
       "<p>1176 rows × 2 columns</p>\n",
       "</div>"
      ],
      "text/plain": [
       "      Working  Online Shopping Frequency\n",
       "0           0                          2\n",
       "1           1                          2\n",
       "2           1                          4\n",
       "3           0                          4\n",
       "4           0                          2\n",
       "...       ...                        ...\n",
       "1171        1                          4\n",
       "1172        1                          2\n",
       "1173        0                          2\n",
       "1174        0                          3\n",
       "1175        0                          3\n",
       "\n",
       "[1176 rows x 2 columns]"
      ]
     },
     "execution_count": 22,
     "metadata": {},
     "output_type": "execute_result"
    }
   ],
   "source": [
    "working_and_frequency"
   ]
  },
  {
   "cell_type": "code",
   "execution_count": 27,
   "metadata": {
    "hidden": true
   },
   "outputs": [
    {
     "data": {
      "text/plain": [
       "Ttest_indResult(statistic=-85.5046945056251, pvalue=0.0)"
      ]
     },
     "execution_count": 27,
     "metadata": {},
     "output_type": "execute_result"
    }
   ],
   "source": [
    "from scipy import stats\n",
    "working= working_and_frequency['Working']\n",
    "freq = working_and_frequency[\"Online Shopping Frequency\"]\n",
    "stats.ttest_ind(working,freq)"
   ]
  },
  {
   "cell_type": "code",
   "execution_count": 28,
   "metadata": {
    "hidden": true
   },
   "outputs": [
    {
     "data": {
      "text/plain": [
       "Text(0.5, 1.0, 'Independent Sample T-Test between Working and  Online Shopping Frequency')"
      ]
     },
     "execution_count": 28,
     "metadata": {},
     "output_type": "execute_result"
    },
    {
     "data": {
      "image/png": "[encoded data removed]",
      "text/plain": [
       "<Figure size 432x288 with 1 Axes>"
      ]
     },
     "metadata": {
      "needs_background": "light"
     },
     "output_type": "display_data"
    }
   ],
   "source": [
    "import seaborn as sns\n",
    "import matplotlib.pyplot as plt\n",
    "sns.kdeplot(working, shade=True)\n",
    "sns.kdeplot(freq, shade=True)\n",
    "plt.title(\"Independent Sample T-Test between Working and  Online Shopping Frequency\")"
   ]
  },
  {
   "cell_type": "code",
   "execution_count": 30,
   "metadata": {
    "hidden": true
   },
   "outputs": [
    {
     "name": "stdout",
     "output_type": "stream",
     "text": [
      "t = -85.50469450562443\n",
      "p = 2.0\n",
      "t = -85.5046945056251\n",
      "p = 0.0\n"
     ]
    }
   ],
   "source": [
    "#For unbiased max likelihood estimate we have to divide the var by N-1, and therefore the parameter ddof = 1\n",
    "a= working_and_frequency['Working']\n",
    "b = working_and_frequency[\"Online Shopping Frequency\"]\n",
    "var_a = a.var(ddof=1)\n",
    "var_b = b.var(ddof=1)\n",
    "N=len(a)\n",
    "#std deviation\n",
    "s = np.sqrt((var_a + var_b)/2)\n",
    "\n",
    "## Calculate the t-statistics\n",
    "t = (a.mean() - b.mean())/(s*np.sqrt(2/N))\n",
    "\n",
    "## Compare with the critical t-value\n",
    "#Degrees of freedom\n",
    "df = 2*N - 2\n",
    "\n",
    "#p-value after comparison with the t \n",
    "p = 1 - stats.t.cdf(t,df=df)\n",
    "\n",
    "\n",
    "print(\"t = \" + str(t))\n",
    "print(\"p = \" + str(2*p))\n",
    "### You can see that after comparing the t statistic with the critical t value (computed internally) we get a good p value of 0.0005 and thus we reject the null hypothesis and thus it proves that the mean of the two distributions are different and statistically significant.\n",
    "\n",
    "\n",
    "## Cross Checking with the internal scipy function\n",
    "t2, p2 = stats.ttest_ind(a,b)\n",
    "print(\"t = \" + str(t2))\n",
    "print(\"p = \" + str(p2))"
   ]
  },
  {
   "cell_type": "code",
   "execution_count": 39,
   "metadata": {
    "hidden": true
   },
   "outputs": [
    {
     "data": {
      "text/plain": [
       "count    1176.000000\n",
       "mean        0.436224\n",
       "std         0.496127\n",
       "min         0.000000\n",
       "25%         0.000000\n",
       "50%         0.000000\n",
       "75%         1.000000\n",
       "max         1.000000\n",
       "Name: Working, dtype: float64"
      ]
     },
     "execution_count": 39,
     "metadata": {},
     "output_type": "execute_result"
    }
   ],
   "source": [
    "working_and_frequency[\"Working\"].describe()"
   ]
  },
  {
   "cell_type": "code",
   "execution_count": 46,
   "metadata": {
    "hidden": true
   },
   "outputs": [
    {
     "name": "stdout",
     "output_type": "stream",
     "text": [
      "       Working  Online Shopping Frequency\n",
      "count    663.0                 663.000000\n",
      "mean       0.0                   3.177979\n",
      "std        0.0                   0.996215\n",
      "min        0.0                   2.000000\n",
      "25%        0.0                   2.000000\n",
      "50%        0.0                   3.000000\n",
      "75%        0.0                   4.000000\n",
      "max        0.0                   6.000000\n",
      "       Working  Online Shopping Frequency\n",
      "count    513.0                 513.000000\n",
      "mean       1.0                   3.528265\n",
      "std        0.0                   1.084191\n",
      "min        1.0                   2.000000\n",
      "25%        1.0                   3.000000\n",
      "50%        1.0                   4.000000\n",
      "75%        1.0                   4.000000\n",
      "max        1.0                   6.000000\n"
     ]
    }
   ],
   "source": [
    "print(working_and_frequency[working_and_frequency[\"Working\"]==0].describe())\n",
    "print(working_and_frequency[working_and_frequency[\"Working\"]==1].describe())"
   ]
  },
  {
   "cell_type": "markdown",
   "metadata": {
    "hidden": true
   },
   "source": [
    "#### Example"
   ]
  },
  {
   "cell_type": "code",
   "execution_count": 48,
   "metadata": {
    "hidden": true
   },
   "outputs": [
    {
     "name": "stderr",
     "output_type": "stream",
     "text": [
      "UsageError: Line magic function `%` not found.\n"
     ]
    }
   ],
   "source": [
    "from scipy.stats import t\n",
    "import numpy as np\n",
    "import scipy.stats as stats\n",
    "import seaborn as sns\n",
    "import matplotlib.pyplot as plt\n",
    "from statsmodels.stats import weightstats as statsmodelsweightstats\n",
    "% matplotlib inline"
   ]
  },
  {
   "cell_type": "code",
   "execution_count": 47,
   "metadata": {
    "hidden": true,
    "scrolled": true
   },
   "outputs": [
    {
     "data": {
      "text/html": [
       "<div>\n",
       "<style scoped>\n",
       "    .dataframe tbody tr th:only-of-type {\n",
       "        vertical-align: middle;\n",
       "    }\n",
       "\n",
       "    .dataframe tbody tr th {\n",
       "        vertical-align: top;\n",
       "    }\n",
       "\n",
       "    .dataframe thead th {\n",
       "        text-align: right;\n",
       "    }\n",
       "</style>\n",
       "<table border=\"1\" class=\"dataframe\">\n",
       "  <thead>\n",
       "    <tr style=\"text-align: right;\">\n",
       "      <th></th>\n",
       "      <th>Working</th>\n",
       "      <th>Online Shopping Frequency</th>\n",
       "    </tr>\n",
       "  </thead>\n",
       "  <tbody>\n",
       "    <tr>\n",
       "      <th>0</th>\n",
       "      <td>0</td>\n",
       "      <td>2</td>\n",
       "    </tr>\n",
       "    <tr>\n",
       "      <th>1</th>\n",
       "      <td>1</td>\n",
       "      <td>2</td>\n",
       "    </tr>\n",
       "    <tr>\n",
       "      <th>2</th>\n",
       "      <td>1</td>\n",
       "      <td>4</td>\n",
       "    </tr>\n",
       "    <tr>\n",
       "      <th>3</th>\n",
       "      <td>0</td>\n",
       "      <td>4</td>\n",
       "    </tr>\n",
       "    <tr>\n",
       "      <th>4</th>\n",
       "      <td>0</td>\n",
       "      <td>2</td>\n",
       "    </tr>\n",
       "  </tbody>\n",
       "</table>\n",
       "</div>"
      ],
      "text/plain": [
       "   Working  Online Shopping Frequency\n",
       "0        0                          2\n",
       "1        1                          2\n",
       "2        1                          4\n",
       "3        0                          4\n",
       "4        0                          2"
      ]
     },
     "execution_count": 47,
     "metadata": {},
     "output_type": "execute_result"
    }
   ],
   "source": [
    "working_and_frequency.head()"
   ]
  },
  {
   "cell_type": "code",
   "execution_count": 49,
   "metadata": {
    "hidden": true
   },
   "outputs": [],
   "source": [
    "alpha = 0.05"
   ]
  },
  {
   "cell_type": "code",
   "execution_count": 53,
   "metadata": {
    "hidden": true
   },
   "outputs": [
    {
     "data": {
      "image/png": "[encoded data removed]",
      "text/plain": [
       "<Figure size 720x504 with 1 Axes>"
      ]
     },
     "metadata": {
      "needs_background": "light"
     },
     "output_type": "display_data"
    }
   ],
   "source": [
    "plt.figure(figsize=(10, 7))\n",
    "sns.distplot(working_and_frequency[\"Online Shopping Frequency\"], color='crimson')\n",
    "plt.title(\"Distribution of Online Shopping Frequency\", y=1, fontsize=22)\n",
    "plt.xlabel(\"Online Shopping Frequency\", labelpad=2)\n",
    "plt.ylabel(\"count of occurences\", labelpad=14);"
   ]
  },
  {
   "cell_type": "code",
   "execution_count": 54,
   "metadata": {
    "hidden": true
   },
   "outputs": [],
   "source": [
    "a= working_and_frequency['Working']\n",
    "b = working_and_frequency[\"Online Shopping Frequency\"]\n",
    "lena= len(a)\n",
    "lenb= len(b)"
   ]
  },
  {
   "cell_type": "code",
   "execution_count": 55,
   "metadata": {
    "hidden": true
   },
   "outputs": [
    {
     "data": {
      "text/plain": [
       "2350"
      ]
     },
     "execution_count": 55,
     "metadata": {},
     "output_type": "execute_result"
    }
   ],
   "source": [
    "degrees_of_freedom = lena + lenb - 2\n",
    "degrees_of_freedom"
   ]
  },
  {
   "cell_type": "code",
   "execution_count": 56,
   "metadata": {
    "hidden": true
   },
   "outputs": [
    {
     "data": {
      "text/plain": [
       "-1.961"
      ]
     },
     "execution_count": 56,
     "metadata": {},
     "output_type": "execute_result"
    }
   ],
   "source": [
    "alpha = 0.05\n",
    "two_tailed_test_prob_tail = alpha/2\n",
    "t_critical = round(stats.t.ppf(two_tailed_test_prob_tail, degrees_of_freedom), 3)\n",
    "t_critical"
   ]
  },
  {
   "cell_type": "code",
   "execution_count": 57,
   "metadata": {
    "hidden": true
   },
   "outputs": [
    {
     "data": {
      "text/plain": [
       "Ttest_indResult(statistic=-85.50469450562507, pvalue=0.0)"
      ]
     },
     "execution_count": 57,
     "metadata": {},
     "output_type": "execute_result"
    }
   ],
   "source": [
    "stats.ttest_ind(a, b=b, equal_var=False, nan_policy='omit')"
   ]
  },
  {
   "cell_type": "markdown",
   "metadata": {
    "hidden": true
   },
   "source": [
    "## Independent Sample T-Test between Sex and Sportif Ticket"
   ]
  },
  {
   "cell_type": "code",
   "execution_count": 142,
   "metadata": {
    "hidden": true
   },
   "outputs": [
    {
     "data": {
      "text/plain": [
       "Ttest_indResult(statistic=20.05564231237555, pvalue=1.0193069216008679e-82)"
      ]
     },
     "execution_count": 142,
     "metadata": {},
     "output_type": "execute_result"
    }
   ],
   "source": [
    "from scipy import stats\n",
    "bir= alle['Sex']\n",
    "iki = alle[\"Sportif ve Kültürel Faaliyet Biletleri\"]\n",
    "stats.ttest_ind(bir,iki)"
   ]
  },
  {
   "cell_type": "code",
   "execution_count": 15,
   "metadata": {
    "hidden": true
   },
   "outputs": [
    {
     "data": {
      "text/plain": [
       "count    1176.000000\n",
       "mean        0.000850\n",
       "std         0.029161\n",
       "min         0.000000\n",
       "25%         0.000000\n",
       "50%         0.000000\n",
       "75%         0.000000\n",
       "max         1.000000\n",
       "Name: YOUTUBE, dtype: float64"
      ]
     },
     "execution_count": 15,
     "metadata": {},
     "output_type": "execute_result"
    }
   ],
   "source": [
    "alle[\"YOUTUBE\"].describe()"
   ]
  },
  {
   "cell_type": "markdown",
   "metadata": {
    "heading_collapsed": true,
    "hidden": true
   },
   "source": [
    "##  T-Test between Age and  Online Shopping Frequency"
   ]
  },
  {
   "cell_type": "code",
   "execution_count": 10,
   "metadata": {
    "hidden": true
   },
   "outputs": [],
   "source": [
    "working_and_frequency=alle[[\"Working\",\"Online Shopping Frequency\"]]"
   ]
  },
  {
   "cell_type": "code",
   "execution_count": 11,
   "metadata": {
    "hidden": true
   },
   "outputs": [
    {
     "data": {
      "text/plain": [
       "array([2, 4, 5, 6, 3])"
      ]
     },
     "execution_count": 11,
     "metadata": {},
     "output_type": "execute_result"
    }
   ],
   "source": [
    "working_and_frequency[\"Online Shopping Frequency\"].unique()"
   ]
  },
  {
   "cell_type": "code",
   "execution_count": 12,
   "metadata": {
    "hidden": true
   },
   "outputs": [
    {
     "name": "stderr",
     "output_type": "stream",
     "text": [
      "/Users/berkay/anaconda3/lib/python3.7/site-packages/IPython/core/interactiveshell.py:3331: SettingWithCopyWarning: \n",
      "A value is trying to be set on a copy of a slice from a DataFrame\n",
      "\n",
      "See the caveats in the documentation: https://pandas.pydata.org/pandas-docs/stable/user_guide/indexing.html#returning-a-view-versus-a-copy\n",
      "  exec(code_obj, self.user_global_ns, self.user_ns)\n"
     ]
    }
   ],
   "source": [
    "for i in range(0,len(working_and_frequency)):\n",
    "    if working_and_frequency[\"Online Shopping Frequency\"][i]<4:\n",
    "        working_and_frequency[\"Online Shopping Frequency\"][i]=0\n",
    "    else:\n",
    "        working_and_frequency[\"Online Shopping Frequency\"][i]=1\n",
    "   "
   ]
  },
  {
   "cell_type": "code",
   "execution_count": 13,
   "metadata": {
    "hidden": true
   },
   "outputs": [
    {
     "data": {
      "text/html": [
       "<div>\n",
       "<style scoped>\n",
       "    .dataframe tbody tr th:only-of-type {\n",
       "        vertical-align: middle;\n",
       "    }\n",
       "\n",
       "    .dataframe tbody tr th {\n",
       "        vertical-align: top;\n",
       "    }\n",
       "\n",
       "    .dataframe thead th {\n",
       "        text-align: right;\n",
       "    }\n",
       "</style>\n",
       "<table border=\"1\" class=\"dataframe\">\n",
       "  <thead>\n",
       "    <tr style=\"text-align: right;\">\n",
       "      <th></th>\n",
       "      <th>Working</th>\n",
       "      <th>Online Shopping Frequency</th>\n",
       "    </tr>\n",
       "  </thead>\n",
       "  <tbody>\n",
       "    <tr>\n",
       "      <th>0</th>\n",
       "      <td>0</td>\n",
       "      <td>0</td>\n",
       "    </tr>\n",
       "    <tr>\n",
       "      <th>1</th>\n",
       "      <td>1</td>\n",
       "      <td>0</td>\n",
       "    </tr>\n",
       "    <tr>\n",
       "      <th>2</th>\n",
       "      <td>1</td>\n",
       "      <td>1</td>\n",
       "    </tr>\n",
       "    <tr>\n",
       "      <th>3</th>\n",
       "      <td>0</td>\n",
       "      <td>1</td>\n",
       "    </tr>\n",
       "    <tr>\n",
       "      <th>4</th>\n",
       "      <td>0</td>\n",
       "      <td>0</td>\n",
       "    </tr>\n",
       "    <tr>\n",
       "      <th>...</th>\n",
       "      <td>...</td>\n",
       "      <td>...</td>\n",
       "    </tr>\n",
       "    <tr>\n",
       "      <th>1171</th>\n",
       "      <td>1</td>\n",
       "      <td>1</td>\n",
       "    </tr>\n",
       "    <tr>\n",
       "      <th>1172</th>\n",
       "      <td>1</td>\n",
       "      <td>0</td>\n",
       "    </tr>\n",
       "    <tr>\n",
       "      <th>1173</th>\n",
       "      <td>0</td>\n",
       "      <td>0</td>\n",
       "    </tr>\n",
       "    <tr>\n",
       "      <th>1174</th>\n",
       "      <td>0</td>\n",
       "      <td>0</td>\n",
       "    </tr>\n",
       "    <tr>\n",
       "      <th>1175</th>\n",
       "      <td>0</td>\n",
       "      <td>0</td>\n",
       "    </tr>\n",
       "  </tbody>\n",
       "</table>\n",
       "<p>1176 rows × 2 columns</p>\n",
       "</div>"
      ],
      "text/plain": [
       "      Working  Online Shopping Frequency\n",
       "0           0                          0\n",
       "1           1                          0\n",
       "2           1                          1\n",
       "3           0                          1\n",
       "4           0                          0\n",
       "...       ...                        ...\n",
       "1171        1                          1\n",
       "1172        1                          0\n",
       "1173        0                          0\n",
       "1174        0                          0\n",
       "1175        0                          0\n",
       "\n",
       "[1176 rows x 2 columns]"
      ]
     },
     "execution_count": 13,
     "metadata": {},
     "output_type": "execute_result"
    }
   ],
   "source": [
    "working_and_frequency"
   ]
  },
  {
   "cell_type": "code",
   "execution_count": 166,
   "metadata": {
    "hidden": true
   },
   "outputs": [],
   "source": [
    "for i in range(0,len(age_and_frequency)):\n",
    "    if age_and_frequency[\"Age\"][i]<=3:\n",
    "        age_and_frequency[\"Age\"][i]=0\n",
    "    else:\n",
    "        age_and_frequency[\"Age\"][i]=1\n",
    "   "
   ]
  },
  {
   "cell_type": "code",
   "execution_count": 9,
   "metadata": {
    "hidden": true
   },
   "outputs": [
    {
     "data": {
      "text/plain": [
       "Ttest_indResult(statistic=-85.5046945056251, pvalue=0.0)"
      ]
     },
     "execution_count": 9,
     "metadata": {},
     "output_type": "execute_result"
    }
   ],
   "source": [
    "from scipy import stats\n",
    "age= working_and_frequency['Working']\n",
    "freq = working_and_frequency[\"Online Shopping Frequency\"]\n",
    "stats.ttest_ind(age,freq)"
   ]
  },
  {
   "cell_type": "code",
   "execution_count": 167,
   "metadata": {
    "hidden": true
   },
   "outputs": [
    {
     "data": {
      "text/plain": [
       "Ttest_indResult(statistic=-20.236252961824235, pvalue=4.544802034651928e-84)"
      ]
     },
     "execution_count": 167,
     "metadata": {},
     "output_type": "execute_result"
    }
   ],
   "source": [
    "from scipy import stats\n",
    "age= age_and_frequency['Age']\n",
    "freq = age_and_frequency[\"Online Shopping Frequency\"]\n",
    "stats.ttest_ind(age,freq)"
   ]
  },
  {
   "cell_type": "code",
   "execution_count": 168,
   "metadata": {
    "hidden": true
   },
   "outputs": [
    {
     "ename": "RuntimeError",
     "evalue": "Selected KDE bandwidth is 0. Cannot estiamte density.",
     "output_type": "error",
     "traceback": [
      "\u001b[0;31m---------------------------------------------------------------------------\u001b[0m",
      "\u001b[0;31mValueError\u001b[0m                                Traceback (most recent call last)",
      "\u001b[0;32m~/anaconda3/lib/python3.7/site-packages/statsmodels/nonparametric/kde.py\u001b[0m in \u001b[0;36mkdensityfft\u001b[0;34m(X, kernel, bw, weights, gridsize, adjust, clip, cut, retgrid)\u001b[0m\n\u001b[1;32m    450\u001b[0m     \u001b[0;32mtry\u001b[0m\u001b[0;34m:\u001b[0m\u001b[0;34m\u001b[0m\u001b[0;34m\u001b[0m\u001b[0m\n\u001b[0;32m--> 451\u001b[0;31m         \u001b[0mbw\u001b[0m \u001b[0;34m=\u001b[0m \u001b[0mfloat\u001b[0m\u001b[0;34m(\u001b[0m\u001b[0mbw\u001b[0m\u001b[0;34m)\u001b[0m\u001b[0;34m\u001b[0m\u001b[0;34m\u001b[0m\u001b[0m\n\u001b[0m\u001b[1;32m    452\u001b[0m     \u001b[0;32mexcept\u001b[0m\u001b[0;34m:\u001b[0m\u001b[0;34m\u001b[0m\u001b[0;34m\u001b[0m\u001b[0m\n",
      "\u001b[0;31mValueError\u001b[0m: could not convert string to float: 'scott'",
      "\nDuring handling of the above exception, another exception occurred:\n",
      "\u001b[0;31mRuntimeError\u001b[0m                              Traceback (most recent call last)",
      "\u001b[0;32m<ipython-input-168-41a14ad3b746>\u001b[0m in \u001b[0;36m<module>\u001b[0;34m\u001b[0m\n\u001b[0;32m----> 1\u001b[0;31m \u001b[0msns\u001b[0m\u001b[0;34m.\u001b[0m\u001b[0mkdeplot\u001b[0m\u001b[0;34m(\u001b[0m\u001b[0mage\u001b[0m\u001b[0;34m,\u001b[0m \u001b[0mshade\u001b[0m\u001b[0;34m=\u001b[0m\u001b[0;32mTrue\u001b[0m\u001b[0;34m)\u001b[0m\u001b[0;34m\u001b[0m\u001b[0;34m\u001b[0m\u001b[0m\n\u001b[0m\u001b[1;32m      2\u001b[0m \u001b[0msns\u001b[0m\u001b[0;34m.\u001b[0m\u001b[0mkdeplot\u001b[0m\u001b[0;34m(\u001b[0m\u001b[0mfreq\u001b[0m\u001b[0;34m,\u001b[0m \u001b[0mshade\u001b[0m\u001b[0;34m=\u001b[0m\u001b[0;32mTrue\u001b[0m\u001b[0;34m)\u001b[0m\u001b[0;34m\u001b[0m\u001b[0;34m\u001b[0m\u001b[0m\n\u001b[1;32m      3\u001b[0m \u001b[0mplt\u001b[0m\u001b[0;34m.\u001b[0m\u001b[0mtitle\u001b[0m\u001b[0;34m(\u001b[0m\u001b[0;34m\"Independent Sample T-Test between Age and Online Shopping Frequency\"\u001b[0m\u001b[0;34m)\u001b[0m\u001b[0;34m\u001b[0m\u001b[0;34m\u001b[0m\u001b[0m\n",
      "\u001b[0;32m~/anaconda3/lib/python3.7/site-packages/seaborn/distributions.py\u001b[0m in \u001b[0;36mkdeplot\u001b[0;34m(data, data2, shade, vertical, kernel, bw, gridsize, cut, clip, legend, cumulative, shade_lowest, cbar, cbar_ax, cbar_kws, ax, **kwargs)\u001b[0m\n\u001b[1;32m    703\u001b[0m         ax = _univariate_kdeplot(data, shade, vertical, kernel, bw,\n\u001b[1;32m    704\u001b[0m                                  \u001b[0mgridsize\u001b[0m\u001b[0;34m,\u001b[0m \u001b[0mcut\u001b[0m\u001b[0;34m,\u001b[0m \u001b[0mclip\u001b[0m\u001b[0;34m,\u001b[0m \u001b[0mlegend\u001b[0m\u001b[0;34m,\u001b[0m \u001b[0max\u001b[0m\u001b[0;34m,\u001b[0m\u001b[0;34m\u001b[0m\u001b[0;34m\u001b[0m\u001b[0m\n\u001b[0;32m--> 705\u001b[0;31m                                  cumulative=cumulative, **kwargs)\n\u001b[0m\u001b[1;32m    706\u001b[0m \u001b[0;34m\u001b[0m\u001b[0m\n\u001b[1;32m    707\u001b[0m     \u001b[0;32mreturn\u001b[0m \u001b[0max\u001b[0m\u001b[0;34m\u001b[0m\u001b[0;34m\u001b[0m\u001b[0m\n",
      "\u001b[0;32m~/anaconda3/lib/python3.7/site-packages/seaborn/distributions.py\u001b[0m in \u001b[0;36m_univariate_kdeplot\u001b[0;34m(data, shade, vertical, kernel, bw, gridsize, cut, clip, legend, ax, cumulative, **kwargs)\u001b[0m\n\u001b[1;32m    293\u001b[0m         x, y = _statsmodels_univariate_kde(data, kernel, bw,\n\u001b[1;32m    294\u001b[0m                                            \u001b[0mgridsize\u001b[0m\u001b[0;34m,\u001b[0m \u001b[0mcut\u001b[0m\u001b[0;34m,\u001b[0m \u001b[0mclip\u001b[0m\u001b[0;34m,\u001b[0m\u001b[0;34m\u001b[0m\u001b[0;34m\u001b[0m\u001b[0m\n\u001b[0;32m--> 295\u001b[0;31m                                            cumulative=cumulative)\n\u001b[0m\u001b[1;32m    296\u001b[0m     \u001b[0;32melse\u001b[0m\u001b[0;34m:\u001b[0m\u001b[0;34m\u001b[0m\u001b[0;34m\u001b[0m\u001b[0m\n\u001b[1;32m    297\u001b[0m         \u001b[0;31m# Fall back to scipy if missing statsmodels\u001b[0m\u001b[0;34m\u001b[0m\u001b[0;34m\u001b[0m\u001b[0;34m\u001b[0m\u001b[0m\n",
      "\u001b[0;32m~/anaconda3/lib/python3.7/site-packages/seaborn/distributions.py\u001b[0m in \u001b[0;36m_statsmodels_univariate_kde\u001b[0;34m(data, kernel, bw, gridsize, cut, clip, cumulative)\u001b[0m\n\u001b[1;32m    365\u001b[0m     \u001b[0mfft\u001b[0m \u001b[0;34m=\u001b[0m \u001b[0mkernel\u001b[0m \u001b[0;34m==\u001b[0m \u001b[0;34m\"gau\"\u001b[0m\u001b[0;34m\u001b[0m\u001b[0;34m\u001b[0m\u001b[0m\n\u001b[1;32m    366\u001b[0m     \u001b[0mkde\u001b[0m \u001b[0;34m=\u001b[0m \u001b[0msmnp\u001b[0m\u001b[0;34m.\u001b[0m\u001b[0mKDEUnivariate\u001b[0m\u001b[0;34m(\u001b[0m\u001b[0mdata\u001b[0m\u001b[0;34m)\u001b[0m\u001b[0;34m\u001b[0m\u001b[0;34m\u001b[0m\u001b[0m\n\u001b[0;32m--> 367\u001b[0;31m     \u001b[0mkde\u001b[0m\u001b[0;34m.\u001b[0m\u001b[0mfit\u001b[0m\u001b[0;34m(\u001b[0m\u001b[0mkernel\u001b[0m\u001b[0;34m,\u001b[0m \u001b[0mbw\u001b[0m\u001b[0;34m,\u001b[0m \u001b[0mfft\u001b[0m\u001b[0;34m,\u001b[0m \u001b[0mgridsize\u001b[0m\u001b[0;34m=\u001b[0m\u001b[0mgridsize\u001b[0m\u001b[0;34m,\u001b[0m \u001b[0mcut\u001b[0m\u001b[0;34m=\u001b[0m\u001b[0mcut\u001b[0m\u001b[0;34m,\u001b[0m \u001b[0mclip\u001b[0m\u001b[0;34m=\u001b[0m\u001b[0mclip\u001b[0m\u001b[0;34m)\u001b[0m\u001b[0;34m\u001b[0m\u001b[0;34m\u001b[0m\u001b[0m\n\u001b[0m\u001b[1;32m    368\u001b[0m     \u001b[0;32mif\u001b[0m \u001b[0mcumulative\u001b[0m\u001b[0;34m:\u001b[0m\u001b[0;34m\u001b[0m\u001b[0;34m\u001b[0m\u001b[0m\n\u001b[1;32m    369\u001b[0m         \u001b[0mgrid\u001b[0m\u001b[0;34m,\u001b[0m \u001b[0my\u001b[0m \u001b[0;34m=\u001b[0m \u001b[0mkde\u001b[0m\u001b[0;34m.\u001b[0m\u001b[0msupport\u001b[0m\u001b[0;34m,\u001b[0m \u001b[0mkde\u001b[0m\u001b[0;34m.\u001b[0m\u001b[0mcdf\u001b[0m\u001b[0;34m\u001b[0m\u001b[0;34m\u001b[0m\u001b[0m\n",
      "\u001b[0;32m~/anaconda3/lib/python3.7/site-packages/statsmodels/nonparametric/kde.py\u001b[0m in \u001b[0;36mfit\u001b[0;34m(self, kernel, bw, fft, weights, gridsize, adjust, cut, clip)\u001b[0m\n\u001b[1;32m    138\u001b[0m             density, grid, bw = kdensityfft(endog, kernel=kernel, bw=bw,\n\u001b[1;32m    139\u001b[0m                     \u001b[0madjust\u001b[0m\u001b[0;34m=\u001b[0m\u001b[0madjust\u001b[0m\u001b[0;34m,\u001b[0m \u001b[0mweights\u001b[0m\u001b[0;34m=\u001b[0m\u001b[0mweights\u001b[0m\u001b[0;34m,\u001b[0m \u001b[0mgridsize\u001b[0m\u001b[0;34m=\u001b[0m\u001b[0mgridsize\u001b[0m\u001b[0;34m,\u001b[0m\u001b[0;34m\u001b[0m\u001b[0;34m\u001b[0m\u001b[0m\n\u001b[0;32m--> 140\u001b[0;31m                     clip=clip, cut=cut)\n\u001b[0m\u001b[1;32m    141\u001b[0m         \u001b[0;32melse\u001b[0m\u001b[0;34m:\u001b[0m\u001b[0;34m\u001b[0m\u001b[0;34m\u001b[0m\u001b[0m\n\u001b[1;32m    142\u001b[0m             density, grid, bw = kdensity(endog, kernel=kernel, bw=bw,\n",
      "\u001b[0;32m~/anaconda3/lib/python3.7/site-packages/statsmodels/nonparametric/kde.py\u001b[0m in \u001b[0;36mkdensityfft\u001b[0;34m(X, kernel, bw, weights, gridsize, adjust, clip, cut, retgrid)\u001b[0m\n\u001b[1;32m    451\u001b[0m         \u001b[0mbw\u001b[0m \u001b[0;34m=\u001b[0m \u001b[0mfloat\u001b[0m\u001b[0;34m(\u001b[0m\u001b[0mbw\u001b[0m\u001b[0;34m)\u001b[0m\u001b[0;34m\u001b[0m\u001b[0;34m\u001b[0m\u001b[0m\n\u001b[1;32m    452\u001b[0m     \u001b[0;32mexcept\u001b[0m\u001b[0;34m:\u001b[0m\u001b[0;34m\u001b[0m\u001b[0;34m\u001b[0m\u001b[0m\n\u001b[0;32m--> 453\u001b[0;31m         \u001b[0mbw\u001b[0m \u001b[0;34m=\u001b[0m \u001b[0mbandwidths\u001b[0m\u001b[0;34m.\u001b[0m\u001b[0mselect_bandwidth\u001b[0m\u001b[0;34m(\u001b[0m\u001b[0mX\u001b[0m\u001b[0;34m,\u001b[0m \u001b[0mbw\u001b[0m\u001b[0;34m,\u001b[0m \u001b[0mkern\u001b[0m\u001b[0;34m)\u001b[0m \u001b[0;31m# will cross-val fit this pattern?\u001b[0m\u001b[0;34m\u001b[0m\u001b[0;34m\u001b[0m\u001b[0m\n\u001b[0m\u001b[1;32m    454\u001b[0m     \u001b[0mbw\u001b[0m \u001b[0;34m*=\u001b[0m \u001b[0madjust\u001b[0m\u001b[0;34m\u001b[0m\u001b[0;34m\u001b[0m\u001b[0m\n\u001b[1;32m    455\u001b[0m \u001b[0;34m\u001b[0m\u001b[0m\n",
      "\u001b[0;32m~/anaconda3/lib/python3.7/site-packages/statsmodels/nonparametric/bandwidths.py\u001b[0m in \u001b[0;36mselect_bandwidth\u001b[0;34m(x, bw, kernel)\u001b[0m\n\u001b[1;32m    172\u001b[0m         \u001b[0;31m# eventually this can fall back on another selection criterion.\u001b[0m\u001b[0;34m\u001b[0m\u001b[0;34m\u001b[0m\u001b[0;34m\u001b[0m\u001b[0m\n\u001b[1;32m    173\u001b[0m         \u001b[0merr\u001b[0m \u001b[0;34m=\u001b[0m \u001b[0;34m\"Selected KDE bandwidth is 0. Cannot estiamte density.\"\u001b[0m\u001b[0;34m\u001b[0m\u001b[0;34m\u001b[0m\u001b[0m\n\u001b[0;32m--> 174\u001b[0;31m         \u001b[0;32mraise\u001b[0m \u001b[0mRuntimeError\u001b[0m\u001b[0;34m(\u001b[0m\u001b[0merr\u001b[0m\u001b[0;34m)\u001b[0m\u001b[0;34m\u001b[0m\u001b[0;34m\u001b[0m\u001b[0m\n\u001b[0m\u001b[1;32m    175\u001b[0m     \u001b[0;32melse\u001b[0m\u001b[0;34m:\u001b[0m\u001b[0;34m\u001b[0m\u001b[0;34m\u001b[0m\u001b[0m\n\u001b[1;32m    176\u001b[0m         \u001b[0;32mreturn\u001b[0m \u001b[0mbandwidth\u001b[0m\u001b[0;34m\u001b[0m\u001b[0;34m\u001b[0m\u001b[0m\n",
      "\u001b[0;31mRuntimeError\u001b[0m: Selected KDE bandwidth is 0. Cannot estiamte density."
     ]
    },
    {
     "data": {
      "image/png": "[encoded data removed]",
      "text/plain": [
       "<Figure size 432x288 with 1 Axes>"
      ]
     },
     "metadata": {
      "needs_background": "light"
     },
     "output_type": "display_data"
    }
   ],
   "source": [
    "sns.kdeplot(age, shade=True)\n",
    "sns.kdeplot(freq, shade=True)\n",
    "plt.title(\"Independent Sample T-Test between Age and Online Shopping Frequency\")"
   ]
  },
  {
   "cell_type": "code",
   "execution_count": null,
   "metadata": {
    "hidden": true
   },
   "outputs": [],
   "source": []
  },
  {
   "cell_type": "code",
   "execution_count": null,
   "metadata": {
    "hidden": true
   },
   "outputs": [],
   "source": []
  },
  {
   "cell_type": "code",
   "execution_count": null,
   "metadata": {
    "hidden": true
   },
   "outputs": [],
   "source": []
  },
  {
   "cell_type": "code",
   "execution_count": null,
   "metadata": {
    "hidden": true
   },
   "outputs": [],
   "source": []
  },
  {
   "cell_type": "code",
   "execution_count": null,
   "metadata": {
    "hidden": true
   },
   "outputs": [],
   "source": []
  },
  {
   "cell_type": "code",
   "execution_count": null,
   "metadata": {
    "hidden": true
   },
   "outputs": [],
   "source": []
  },
  {
   "cell_type": "code",
   "execution_count": null,
   "metadata": {
    "hidden": true
   },
   "outputs": [],
   "source": []
  },
  {
   "cell_type": "code",
   "execution_count": null,
   "metadata": {
    "hidden": true
   },
   "outputs": [],
   "source": []
  },
  {
   "cell_type": "code",
   "execution_count": null,
   "metadata": {
    "hidden": true
   },
   "outputs": [],
   "source": []
  },
  {
   "cell_type": "code",
   "execution_count": null,
   "metadata": {
    "hidden": true
   },
   "outputs": [],
   "source": []
  },
  {
   "cell_type": "markdown",
   "metadata": {},
   "source": [
    "# Chi squares"
   ]
  },
  {
   "cell_type": "code",
   "execution_count": 45,
   "metadata": {},
   "outputs": [
    {
     "name": "stdout",
     "output_type": "stream",
     "text": [
      "numberOfMan: 439  numberOfWoman:  737\n",
      "numberOfWorking: 513  numberOfNotWorking:  663\n",
      "probability=0.950, critical=3.841, stat=84.909\n",
      "Dependent (reject H0)\n",
      "significance=0.050, p=0.000\n",
      "Dependent (reject H0)\n"
     ]
    }
   ],
   "source": [
    "import pandas as pd\n",
    "import numpy as np\n",
    "from numpy import mean\n",
    "from math import sqrt\n",
    "from scipy.stats import t\n",
    "from scipy.stats import chi2_contingency\n",
    "from scipy.stats import chi2\n",
    "df = pd.read_excel('alltogether.xlsx')\n",
    "\n",
    "sexArray = []\n",
    "incomeArray = []\n",
    "workingArray = []\n",
    "\n",
    "\n",
    "numberOfWoman = 0\n",
    "numberOfMan = 0\n",
    "numberOfWorking = 0\n",
    "numberOfNotWorking = 0\n",
    "\n",
    "for i in df.Sex:\n",
    "    \n",
    "    if(i == 2):\n",
    "        numberOfMan = numberOfMan + 1\n",
    "    elif(i == 1):\n",
    "        numberOfWoman = numberOfWoman + 1\n",
    "        \n",
    "print(\"numberOfMan:\", numberOfMan, \" numberOfWoman: \", numberOfWoman )\n",
    "\n",
    "for i in df.Working:\n",
    "    \n",
    "    if(i == 0):\n",
    "        numberOfNotWorking = numberOfNotWorking + 1\n",
    "    elif(i == 1):\n",
    "        numberOfWorking = numberOfWorking + 1\n",
    "        \n",
    "print(\"numberOfWorking:\", numberOfWorking, \" numberOfNotWorking: \", numberOfNotWorking )\n",
    "\n",
    "\n",
    "table = [\t[numberOfWoman, numberOfMan],\n",
    "\t\t\t[numberOfWorking, numberOfNotWorking] ]\n",
    "\n",
    "\n",
    "\n",
    "def chisquare(table):\n",
    "    # chi-squared test with similar proportions\n",
    "   \n",
    "    #print(table)\n",
    "    stat, p, dof, expected = chi2_contingency(table)\n",
    "    #print('dof=%d' % dof)\n",
    "    #print(expected)\n",
    "    # interpret test-statistic\n",
    "    prob = 0.95\n",
    "    critical = chi2.ppf(prob, dof)\n",
    "    print('probability=%.3f, critical=%.3f, stat=%.3f' % (prob, critical, stat))\n",
    "    if abs(stat) >= critical:\n",
    "    \tprint('Dependent (reject H0)')\n",
    "    else:\n",
    "    \tprint('Independent (fail to reject H0)')\n",
    "    # interpret p-value\n",
    "    alpha = 1.0 - prob\n",
    "    print('significance=%.3f, p=%.3f' % (alpha, p))\n",
    "    if p <= alpha:\n",
    "    \tprint('Dependent (reject H0)')\n",
    "    else:\n",
    "    \tprint('Independent (fail to reject H0)')\n",
    "chisquare(table)"
   ]
  },
  {
   "cell_type": "code",
   "execution_count": 194,
   "metadata": {},
   "outputs": [
    {
     "name": "stdout",
     "output_type": "stream",
     "text": [
      "===Chi2 Stat===\n",
      "316.7980279788569\n",
      "\n",
      "\n",
      "===Degrees of Freedom===\n",
      "1175\n",
      "\n",
      "\n",
      "===P-Value===\n",
      "1.0\n",
      "\n",
      "\n",
      "===Contingency Table===\n",
      "[[1.79665307 1.3474898  3.14414288 ... 2.24581634 2.69497961 2.69497961]\n",
      " [2.20334693 1.6525102  3.85585712 ... 2.75418366 3.30502039 3.30502039]]\n"
     ]
    }
   ],
   "source": [
    "from scipy.stats import chisquare\n",
    "bir= alle['Income']\n",
    "iki = alle[\"Online Shopping Frequency\"]\n",
    "a= np.array([bir,iki])\n",
    "chi2_stat, p_val, dof, ex = stats.chi2_contingency(a)\n",
    "print(\"===Chi2 Stat===\")\n",
    "print(chi2_stat)\n",
    "print(\"\\n\")\n",
    "print(\"===Degrees of Freedom===\")\n",
    "print(dof)\n",
    "print(\"\\n\")\n",
    "print(\"===P-Value===\")\n",
    "print(p_val)\n",
    "print(\"\\n\")\n",
    "print(\"===Contingency Table===\")\n",
    "print(ex)"
   ]
  },
  {
   "cell_type": "code",
   "execution_count": 195,
   "metadata": {},
   "outputs": [
    {
     "data": {
      "text/plain": [
       "(316.7980279788569,\n",
       " 1.0,\n",
       " 1175,\n",
       " array([[1.79665307, 1.3474898 , 3.14414288, ..., 2.24581634, 2.69497961,\n",
       "         2.69497961],\n",
       "        [2.20334693, 1.6525102 , 3.85585712, ..., 2.75418366, 3.30502039,\n",
       "         3.30502039]]))"
      ]
     },
     "execution_count": 195,
     "metadata": {},
     "output_type": "execute_result"
    }
   ],
   "source": [
    "stats.chi2_contingency(a)"
   ]
  },
  {
   "cell_type": "code",
   "execution_count": 190,
   "metadata": {},
   "outputs": [
    {
     "name": "stderr",
     "output_type": "stream",
     "text": [
      "/Users/berkay/anaconda3/lib/python3.7/site-packages/scipy/stats/stats.py:5745: RuntimeWarning: divide by zero encountered in true_divide\n",
      "  terms = (f_obs - f_exp)**2 / f_exp\n"
     ]
    },
    {
     "data": {
      "text/plain": [
       "Power_divergenceResult(statistic=inf, pvalue=0.0)"
      ]
     },
     "execution_count": 190,
     "metadata": {},
     "output_type": "execute_result"
    }
   ],
   "source": [
    "stats.chisquare(bir,iki)"
   ]
  },
  {
   "cell_type": "code",
   "execution_count": null,
   "metadata": {},
   "outputs": [],
   "source": []
  },
  {
   "cell_type": "code",
   "execution_count": null,
   "metadata": {},
   "outputs": [],
   "source": []
  },
  {
   "cell_type": "code",
   "execution_count": null,
   "metadata": {},
   "outputs": [],
   "source": []
  },
  {
   "cell_type": "code",
   "execution_count": null,
   "metadata": {},
   "outputs": [],
   "source": []
  },
  {
   "cell_type": "code",
   "execution_count": null,
   "metadata": {},
   "outputs": [],
   "source": []
  },
  {
   "cell_type": "code",
   "execution_count": null,
   "metadata": {},
   "outputs": [],
   "source": []
  },
  {
   "cell_type": "code",
   "execution_count": null,
   "metadata": {},
   "outputs": [],
   "source": []
  },
  {
   "cell_type": "markdown",
   "metadata": {},
   "source": [
    "## Descriptive"
   ]
  },
  {
   "cell_type": "code",
   "execution_count": 59,
   "metadata": {},
   "outputs": [
    {
     "data": {
      "text/plain": [
       "count    1176.000000\n",
       "mean        2.460884\n",
       "std         0.957035\n",
       "min         1.000000\n",
       "25%         2.000000\n",
       "50%         2.000000\n",
       "75%         3.000000\n",
       "max         6.000000\n",
       "Name: Age, dtype: float64"
      ]
     },
     "execution_count": 59,
     "metadata": {},
     "output_type": "execute_result"
    }
   ],
   "source": [
    "alle[\"Age\"].describe()"
   ]
  },
  {
   "cell_type": "code",
   "execution_count": 60,
   "metadata": {},
   "outputs": [
    {
     "data": {
      "text/plain": [
       "count    1176.000000\n",
       "mean       38.565476\n",
       "std        13.591391\n",
       "min         0.000000\n",
       "25%        36.000000\n",
       "50%        46.000000\n",
       "75%        46.000000\n",
       "max        48.000000\n",
       "Name: City, dtype: float64"
      ]
     },
     "execution_count": 60,
     "metadata": {},
     "output_type": "execute_result"
    }
   ],
   "source": [
    "alle[\"City\"].describe()"
   ]
  },
  {
   "cell_type": "code",
   "execution_count": 61,
   "metadata": {},
   "outputs": [
    {
     "data": {
      "text/html": [
       "<div>\n",
       "<style scoped>\n",
       "    .dataframe tbody tr th:only-of-type {\n",
       "        vertical-align: middle;\n",
       "    }\n",
       "\n",
       "    .dataframe tbody tr th {\n",
       "        vertical-align: top;\n",
       "    }\n",
       "\n",
       "    .dataframe thead th {\n",
       "        text-align: right;\n",
       "    }\n",
       "</style>\n",
       "<table border=\"1\" class=\"dataframe\">\n",
       "  <thead>\n",
       "    <tr style=\"text-align: right;\">\n",
       "      <th></th>\n",
       "      <th>Age</th>\n",
       "      <th>Sex</th>\n",
       "      <th>City</th>\n",
       "      <th>Marial Status</th>\n",
       "      <th>Education</th>\n",
       "      <th>Working</th>\n",
       "      <th>Sector</th>\n",
       "      <th>Working Type</th>\n",
       "      <th>Experience</th>\n",
       "      <th>Income</th>\n",
       "      <th>...</th>\n",
       "      <th>YOUTUBE</th>\n",
       "      <th>Youtube review videoları</th>\n",
       "      <th>Youtube ürün incelemeleri.</th>\n",
       "      <th>Youtube’da review eden yabancı youtuberlar</th>\n",
       "      <th>Ürün katalogları</th>\n",
       "      <th>Ürün üzerindeki bilgi etiketleri</th>\n",
       "      <th>Ürün/hizmet hakkında bilgi veren internet siteleri</th>\n",
       "      <th>İhtiyac</th>\n",
       "      <th>İlan Panoları, el ilanları, afişler v.b.</th>\n",
       "      <th>İnstagram sayfaları ve youtube</th>\n",
       "    </tr>\n",
       "  </thead>\n",
       "  <tbody>\n",
       "    <tr>\n",
       "      <th>0</th>\n",
       "      <td>2</td>\n",
       "      <td>1</td>\n",
       "      <td>47</td>\n",
       "      <td>2</td>\n",
       "      <td>4</td>\n",
       "      <td>0</td>\n",
       "      <td>0</td>\n",
       "      <td>0</td>\n",
       "      <td>0</td>\n",
       "      <td>2</td>\n",
       "      <td>...</td>\n",
       "      <td>0</td>\n",
       "      <td>0</td>\n",
       "      <td>0</td>\n",
       "      <td>0</td>\n",
       "      <td>0</td>\n",
       "      <td>0</td>\n",
       "      <td>0</td>\n",
       "      <td>0</td>\n",
       "      <td>0</td>\n",
       "      <td>0</td>\n",
       "    </tr>\n",
       "    <tr>\n",
       "      <th>1</th>\n",
       "      <td>2</td>\n",
       "      <td>0</td>\n",
       "      <td>46</td>\n",
       "      <td>2</td>\n",
       "      <td>3</td>\n",
       "      <td>1</td>\n",
       "      <td>101</td>\n",
       "      <td>101</td>\n",
       "      <td>0</td>\n",
       "      <td>1</td>\n",
       "      <td>...</td>\n",
       "      <td>0</td>\n",
       "      <td>0</td>\n",
       "      <td>0</td>\n",
       "      <td>0</td>\n",
       "      <td>0</td>\n",
       "      <td>0</td>\n",
       "      <td>0</td>\n",
       "      <td>0</td>\n",
       "      <td>0</td>\n",
       "      <td>0</td>\n",
       "    </tr>\n",
       "    <tr>\n",
       "      <th>2</th>\n",
       "      <td>2</td>\n",
       "      <td>1</td>\n",
       "      <td>46</td>\n",
       "      <td>2</td>\n",
       "      <td>4</td>\n",
       "      <td>1</td>\n",
       "      <td>102</td>\n",
       "      <td>102</td>\n",
       "      <td>4</td>\n",
       "      <td>3</td>\n",
       "      <td>...</td>\n",
       "      <td>0</td>\n",
       "      <td>0</td>\n",
       "      <td>0</td>\n",
       "      <td>0</td>\n",
       "      <td>0</td>\n",
       "      <td>0</td>\n",
       "      <td>0</td>\n",
       "      <td>0</td>\n",
       "      <td>0</td>\n",
       "      <td>0</td>\n",
       "    </tr>\n",
       "    <tr>\n",
       "      <th>3</th>\n",
       "      <td>2</td>\n",
       "      <td>1</td>\n",
       "      <td>46</td>\n",
       "      <td>2</td>\n",
       "      <td>4</td>\n",
       "      <td>0</td>\n",
       "      <td>0</td>\n",
       "      <td>0</td>\n",
       "      <td>0</td>\n",
       "      <td>3</td>\n",
       "      <td>...</td>\n",
       "      <td>0</td>\n",
       "      <td>0</td>\n",
       "      <td>0</td>\n",
       "      <td>0</td>\n",
       "      <td>0</td>\n",
       "      <td>1</td>\n",
       "      <td>0</td>\n",
       "      <td>0</td>\n",
       "      <td>0</td>\n",
       "      <td>0</td>\n",
       "    </tr>\n",
       "    <tr>\n",
       "      <th>4</th>\n",
       "      <td>2</td>\n",
       "      <td>1</td>\n",
       "      <td>46</td>\n",
       "      <td>2</td>\n",
       "      <td>4</td>\n",
       "      <td>0</td>\n",
       "      <td>0</td>\n",
       "      <td>0</td>\n",
       "      <td>0</td>\n",
       "      <td>1</td>\n",
       "      <td>...</td>\n",
       "      <td>0</td>\n",
       "      <td>0</td>\n",
       "      <td>0</td>\n",
       "      <td>0</td>\n",
       "      <td>1</td>\n",
       "      <td>1</td>\n",
       "      <td>1</td>\n",
       "      <td>0</td>\n",
       "      <td>0</td>\n",
       "      <td>0</td>\n",
       "    </tr>\n",
       "    <tr>\n",
       "      <th>...</th>\n",
       "      <td>...</td>\n",
       "      <td>...</td>\n",
       "      <td>...</td>\n",
       "      <td>...</td>\n",
       "      <td>...</td>\n",
       "      <td>...</td>\n",
       "      <td>...</td>\n",
       "      <td>...</td>\n",
       "      <td>...</td>\n",
       "      <td>...</td>\n",
       "      <td>...</td>\n",
       "      <td>...</td>\n",
       "      <td>...</td>\n",
       "      <td>...</td>\n",
       "      <td>...</td>\n",
       "      <td>...</td>\n",
       "      <td>...</td>\n",
       "      <td>...</td>\n",
       "      <td>...</td>\n",
       "      <td>...</td>\n",
       "      <td>...</td>\n",
       "    </tr>\n",
       "    <tr>\n",
       "      <th>1171</th>\n",
       "      <td>2</td>\n",
       "      <td>1</td>\n",
       "      <td>13</td>\n",
       "      <td>2</td>\n",
       "      <td>5</td>\n",
       "      <td>1</td>\n",
       "      <td>117</td>\n",
       "      <td>105</td>\n",
       "      <td>1</td>\n",
       "      <td>4</td>\n",
       "      <td>...</td>\n",
       "      <td>0</td>\n",
       "      <td>0</td>\n",
       "      <td>0</td>\n",
       "      <td>0</td>\n",
       "      <td>0</td>\n",
       "      <td>1</td>\n",
       "      <td>0</td>\n",
       "      <td>0</td>\n",
       "      <td>0</td>\n",
       "      <td>0</td>\n",
       "    </tr>\n",
       "    <tr>\n",
       "      <th>1172</th>\n",
       "      <td>2</td>\n",
       "      <td>1</td>\n",
       "      <td>11</td>\n",
       "      <td>2</td>\n",
       "      <td>4</td>\n",
       "      <td>1</td>\n",
       "      <td>120</td>\n",
       "      <td>105</td>\n",
       "      <td>1</td>\n",
       "      <td>2</td>\n",
       "      <td>...</td>\n",
       "      <td>0</td>\n",
       "      <td>0</td>\n",
       "      <td>0</td>\n",
       "      <td>0</td>\n",
       "      <td>0</td>\n",
       "      <td>0</td>\n",
       "      <td>0</td>\n",
       "      <td>0</td>\n",
       "      <td>0</td>\n",
       "      <td>0</td>\n",
       "    </tr>\n",
       "    <tr>\n",
       "      <th>1173</th>\n",
       "      <td>2</td>\n",
       "      <td>1</td>\n",
       "      <td>46</td>\n",
       "      <td>2</td>\n",
       "      <td>4</td>\n",
       "      <td>0</td>\n",
       "      <td>0</td>\n",
       "      <td>0</td>\n",
       "      <td>0</td>\n",
       "      <td>3</td>\n",
       "      <td>...</td>\n",
       "      <td>0</td>\n",
       "      <td>0</td>\n",
       "      <td>0</td>\n",
       "      <td>0</td>\n",
       "      <td>1</td>\n",
       "      <td>0</td>\n",
       "      <td>0</td>\n",
       "      <td>0</td>\n",
       "      <td>0</td>\n",
       "      <td>0</td>\n",
       "    </tr>\n",
       "    <tr>\n",
       "      <th>1174</th>\n",
       "      <td>2</td>\n",
       "      <td>1</td>\n",
       "      <td>46</td>\n",
       "      <td>2</td>\n",
       "      <td>4</td>\n",
       "      <td>0</td>\n",
       "      <td>0</td>\n",
       "      <td>0</td>\n",
       "      <td>0</td>\n",
       "      <td>3</td>\n",
       "      <td>...</td>\n",
       "      <td>0</td>\n",
       "      <td>0</td>\n",
       "      <td>0</td>\n",
       "      <td>0</td>\n",
       "      <td>0</td>\n",
       "      <td>0</td>\n",
       "      <td>0</td>\n",
       "      <td>0</td>\n",
       "      <td>0</td>\n",
       "      <td>0</td>\n",
       "    </tr>\n",
       "    <tr>\n",
       "      <th>1175</th>\n",
       "      <td>3</td>\n",
       "      <td>1</td>\n",
       "      <td>46</td>\n",
       "      <td>1</td>\n",
       "      <td>3</td>\n",
       "      <td>0</td>\n",
       "      <td>0</td>\n",
       "      <td>0</td>\n",
       "      <td>0</td>\n",
       "      <td>3</td>\n",
       "      <td>...</td>\n",
       "      <td>0</td>\n",
       "      <td>0</td>\n",
       "      <td>0</td>\n",
       "      <td>0</td>\n",
       "      <td>1</td>\n",
       "      <td>0</td>\n",
       "      <td>0</td>\n",
       "      <td>0</td>\n",
       "      <td>0</td>\n",
       "      <td>0</td>\n",
       "    </tr>\n",
       "  </tbody>\n",
       "</table>\n",
       "<p>1176 rows × 174 columns</p>\n",
       "</div>"
      ],
      "text/plain": [
       "      Age  Sex  City Marial Status Education  Working  Sector Working Type  \\\n",
       "0       2    1    47             2         4        0       0            0   \n",
       "1       2    0    46             2         3        1     101          101   \n",
       "2       2    1    46             2         4        1     102          102   \n",
       "3       2    1    46             2         4        0       0            0   \n",
       "4       2    1    46             2         4        0       0            0   \n",
       "...   ...  ...   ...           ...       ...      ...     ...          ...   \n",
       "1171    2    1    13             2         5        1     117          105   \n",
       "1172    2    1    11             2         4        1     120          105   \n",
       "1173    2    1    46             2         4        0       0            0   \n",
       "1174    2    1    46             2         4        0       0            0   \n",
       "1175    3    1    46             1         3        0       0            0   \n",
       "\n",
       "      Experience  Income  ...  YOUTUBE  Youtube review videoları  \\\n",
       "0              0       2  ...        0                         0   \n",
       "1              0       1  ...        0                         0   \n",
       "2              4       3  ...        0                         0   \n",
       "3              0       3  ...        0                         0   \n",
       "4              0       1  ...        0                         0   \n",
       "...          ...     ...  ...      ...                       ...   \n",
       "1171           1       4  ...        0                         0   \n",
       "1172           1       2  ...        0                         0   \n",
       "1173           0       3  ...        0                         0   \n",
       "1174           0       3  ...        0                         0   \n",
       "1175           0       3  ...        0                         0   \n",
       "\n",
       "      Youtube ürün incelemeleri.  Youtube’da review eden yabancı youtuberlar  \\\n",
       "0                              0                                           0   \n",
       "1                              0                                           0   \n",
       "2                              0                                           0   \n",
       "3                              0                                           0   \n",
       "4                              0                                           0   \n",
       "...                          ...                                         ...   \n",
       "1171                           0                                           0   \n",
       "1172                           0                                           0   \n",
       "1173                           0                                           0   \n",
       "1174                           0                                           0   \n",
       "1175                           0                                           0   \n",
       "\n",
       "      Ürün katalogları  Ürün üzerindeki bilgi etiketleri  \\\n",
       "0                    0                                 0   \n",
       "1                    0                                 0   \n",
       "2                    0                                 0   \n",
       "3                    0                                 1   \n",
       "4                    1                                 1   \n",
       "...                ...                               ...   \n",
       "1171                 0                                 1   \n",
       "1172                 0                                 0   \n",
       "1173                 1                                 0   \n",
       "1174                 0                                 0   \n",
       "1175                 1                                 0   \n",
       "\n",
       "      Ürün/hizmet hakkında bilgi veren internet siteleri  İhtiyac  \\\n",
       "0                                                     0         0   \n",
       "1                                                     0         0   \n",
       "2                                                     0         0   \n",
       "3                                                     0         0   \n",
       "4                                                     1         0   \n",
       "...                                                 ...       ...   \n",
       "1171                                                  0         0   \n",
       "1172                                                  0         0   \n",
       "1173                                                  0         0   \n",
       "1174                                                  0         0   \n",
       "1175                                                  0         0   \n",
       "\n",
       "      İlan Panoları, el ilanları, afişler v.b.  İnstagram sayfaları ve youtube  \n",
       "0                                            0                               0  \n",
       "1                                            0                               0  \n",
       "2                                            0                               0  \n",
       "3                                            0                               0  \n",
       "4                                            0                               0  \n",
       "...                                        ...                             ...  \n",
       "1171                                         0                               0  \n",
       "1172                                         0                               0  \n",
       "1173                                         0                               0  \n",
       "1174                                         0                               0  \n",
       "1175                                         0                               0  \n",
       "\n",
       "[1176 rows x 174 columns]"
      ]
     },
     "execution_count": 61,
     "metadata": {},
     "output_type": "execute_result"
    }
   ],
   "source": [
    "alle"
   ]
  },
  {
   "cell_type": "code",
   "execution_count": null,
   "metadata": {},
   "outputs": [],
   "source": []
  },
  {
   "cell_type": "code",
   "execution_count": null,
   "metadata": {},
   "outputs": [],
   "source": []
  },
  {
   "cell_type": "code",
   "execution_count": null,
   "metadata": {},
   "outputs": [],
   "source": []
  },
  {
   "cell_type": "code",
   "execution_count": null,
   "metadata": {},
   "outputs": [],
   "source": []
  },
  {
   "cell_type": "code",
   "execution_count": null,
   "metadata": {},
   "outputs": [],
   "source": []
  },
  {
   "cell_type": "code",
   "execution_count": null,
   "metadata": {},
   "outputs": [],
   "source": []
  },
  {
   "cell_type": "code",
   "execution_count": null,
   "metadata": {},
   "outputs": [],
   "source": []
  },
  {
   "cell_type": "code",
   "execution_count": null,
   "metadata": {},
   "outputs": [],
   "source": []
  },
  {
   "cell_type": "code",
   "execution_count": null,
   "metadata": {},
   "outputs": [],
   "source": []
  },
  {
   "cell_type": "code",
   "execution_count": null,
   "metadata": {},
   "outputs": [],
   "source": []
  },
  {
   "cell_type": "code",
   "execution_count": null,
   "metadata": {},
   "outputs": [],
   "source": []
  },
  {
   "cell_type": "code",
   "execution_count": null,
   "metadata": {},
   "outputs": [],
   "source": []
  }
 ],
 "metadata": {
  "kernelspec": {
   "display_name": "Python 3",
   "language": "python",
   "name": "python3"
  },
  "language_info": {
   "codemirror_mode": {
    "name": "ipython",
    "version": 3
   },
   "file_extension": ".py",
   "mimetype": "text/x-python",
   "name": "python",
   "nbconvert_exporter": "python",
   "pygments_lexer": "ipython3",
   "version": "3.7.3"
  }
 },
 "nbformat": 4,
 "nbformat_minor": 4
}
